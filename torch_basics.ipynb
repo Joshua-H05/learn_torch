{
 "cells": [
  {
   "cell_type": "code",
   "execution_count": 1,
   "id": "6faf8b6f-f56a-4cfb-86c3-f01b28b5a499",
   "metadata": {
    "editable": true,
    "slideshow": {
     "slide_type": ""
    },
    "tags": []
   },
   "outputs": [
    {
     "name": "stdout",
     "output_type": "stream",
     "text": [
      "tensor([1.], device='mps:0')\n"
     ]
    }
   ],
   "source": [
    "import torch\n",
    "if torch.backends.mps.is_available():\n",
    "    mps_device = torch.device(\"mps\")\n",
    "    x = torch.ones(1, device=mps_device)\n",
    "    print (x)\n",
    "else:\n",
    "    print (\"MPS device not found.\")"
   ]
  },
  {
   "cell_type": "markdown",
   "id": "9d1ce1c4-8a3f-4831-9542-536b59077978",
   "metadata": {},
   "source": [
    "# Pytorch tensors & numpy"
   ]
  },
  {
   "cell_type": "code",
   "execution_count": 15,
   "id": "b4f1ba5b-1214-4011-b9f7-e8de804dde9f",
   "metadata": {},
   "outputs": [
    {
     "data": {
      "text/plain": [
       "torch.float64"
      ]
     },
     "execution_count": 15,
     "metadata": {},
     "output_type": "execute_result"
    }
   ],
   "source": [
    "import numpy as np\n",
    "\n",
    "array = np.arange(1., 8.) # Numpy's default dtype is float64, whereas torch's default array is float32\n",
    "tensor = torch.from_numpy(array)\n",
    "tensor.dtype # Torch reflefts this, so tensors created from np arrays are all of type float64"
   ]
  },
  {
   "cell_type": "code",
   "execution_count": 16,
   "id": "a2440157-8ad7-4a07-b549-14d45a5f3b09",
   "metadata": {},
   "outputs": [
    {
     "data": {
      "text/plain": [
       "array([2., 3., 4., 5., 6., 7., 8.])"
      ]
     },
     "execution_count": 16,
     "metadata": {},
     "output_type": "execute_result"
    }
   ],
   "source": [
    "# Changing the value of the array doesn't affect the tensor\n",
    "array = array + 1\n",
    "array, tensor"
   ]
  },
  {
   "cell_type": "code",
   "execution_count": 18,
   "id": "893c76bb-4f65-4ce8-bd6a-f296d4dbe402",
   "metadata": {},
   "outputs": [
    {
     "data": {
      "text/plain": [
       "(array([2., 3., 4., 5., 6., 7., 8.]),\n",
       " tensor([2., 3., 4., 5., 6., 7., 8.], dtype=torch.float64))"
      ]
     },
     "execution_count": 18,
     "metadata": {},
     "output_type": "execute_result"
    }
   ],
   "source": [
    "# However, using the += method on the array does change the tensor as well\n",
    "array = np.arange(1., 8.)\n",
    "tensor = torch.from_numpy(array)\n",
    "array += 1\n",
    "array, tensor"
   ]
  },
  {
   "cell_type": "code",
   "execution_count": 19,
   "id": "4df725d4-631e-48f2-9fa1-147a08dba10d",
   "metadata": {},
   "outputs": [
    {
     "data": {
      "text/plain": [
       "(tensor([1., 1., 1., 1., 1., 1., 1.]),\n",
       " array([1., 1., 1., 1., 1., 1., 1.], dtype=float32))"
      ]
     },
     "execution_count": 19,
     "metadata": {},
     "output_type": "execute_result"
    }
   ],
   "source": [
    "# Tensor to numpy array\n",
    "tensor = torch.ones(7)\n",
    "numpy_tensor = tensor.numpy()\n",
    "tensor, numpy_tensor # Numpy array reflects torch's default dtype"
   ]
  },
  {
   "cell_type": "code",
   "execution_count": 20,
   "id": "5c03e389-0953-4da2-b64a-916846280d00",
   "metadata": {},
   "outputs": [],
   "source": [
    "tensor += 1"
   ]
  },
  {
   "cell_type": "code",
   "execution_count": 21,
   "id": "a9d21bb3-64ad-4ffc-8b57-90b93220a348",
   "metadata": {},
   "outputs": [
    {
     "data": {
      "text/plain": [
       "array([2., 2., 2., 2., 2., 2., 2.], dtype=float32)"
      ]
     },
     "execution_count": 21,
     "metadata": {},
     "output_type": "execute_result"
    }
   ],
   "source": [
    "numpy_tensor"
   ]
  },
  {
   "cell_type": "markdown",
   "id": "7e97b1c7-cc81-4a09-ba68-d22c78252776",
   "metadata": {},
   "source": [
    "# Seeding"
   ]
  },
  {
   "cell_type": "code",
   "execution_count": 22,
   "id": "d753580f-c6cd-4b65-bdcc-2359ec09cd90",
   "metadata": {},
   "outputs": [
    {
     "data": {
      "text/plain": [
       "(tensor([[0.9540, 0.8721, 0.0770, 0.0852],\n",
       "         [0.5661, 0.2461, 0.3297, 0.6207],\n",
       "         [0.1207, 0.7703, 0.3983, 0.0062]]),\n",
       " tensor([[0.5955, 0.8249, 0.2566, 0.7106],\n",
       "         [0.7954, 0.2667, 0.2718, 0.4262],\n",
       "         [0.8652, 0.8230, 0.8275, 0.4962]]),\n",
       " tensor([[False, False, False, False],\n",
       "         [False, False, False, False],\n",
       "         [False, False, False, False]]))"
      ]
     },
     "execution_count": 22,
     "metadata": {},
     "output_type": "execute_result"
    }
   ],
   "source": [
    "# Complete randomness, hard to reproduce\n",
    "\n",
    "a = torch.rand(3, 4)\n",
    "b = torch.rand(3, 4)\n",
    "a, b, a == b"
   ]
  },
  {
   "cell_type": "code",
   "execution_count": 23,
   "id": "4c4c56f2-5893-4676-bd07-ccd3e1c0228e",
   "metadata": {},
   "outputs": [
    {
     "data": {
      "text/plain": [
       "(tensor([[0.8823, 0.9150, 0.3829, 0.9593],\n",
       "         [0.3904, 0.6009, 0.2566, 0.7936],\n",
       "         [0.9408, 0.1332, 0.9346, 0.5936]]),\n",
       " tensor([[0.8823, 0.9150, 0.3829, 0.9593],\n",
       "         [0.3904, 0.6009, 0.2566, 0.7936],\n",
       "         [0.9408, 0.1332, 0.9346, 0.5936]]),\n",
       " tensor([[True, True, True, True],\n",
       "         [True, True, True, True],\n",
       "         [True, True, True, True]]))"
      ]
     },
     "execution_count": 23,
     "metadata": {},
     "output_type": "execute_result"
    }
   ],
   "source": [
    "# Reproducible randomness\n",
    "RANDOM_SEED = 42 # set random seed as global constant\n",
    "torch.manual_seed(RANDOM_SEED) # Tell torch about random seed\n",
    "c = torch.rand(3, 4)\n",
    "torch.manual_seed(RANDOM_SEED) # Seed must be reset every time a new sequence is generated\n",
    "# Or else, the randomly generated sequence won't be based on the seed\n",
    "d = torch.rand(3, 4)\n",
    "c, d, c==d"
   ]
  },
  {
   "cell_type": "markdown",
   "id": "b2637eae-d3f0-48f1-baf4-b64399156cc8",
   "metadata": {},
   "source": [
    "# Put tensors & models on the GPU --> Faster computations"
   ]
  },
  {
   "cell_type": "code",
   "execution_count": 24,
   "id": "9a81f467-c81e-410d-bfac-9356f2396df6",
   "metadata": {},
   "outputs": [
    {
     "data": {
      "text/plain": [
       "device(type='cpu')"
      ]
     },
     "execution_count": 24,
     "metadata": {},
     "output_type": "execute_result"
    }
   ],
   "source": [
    "t = torch.tensor([1, 2, 3])\n",
    "t.device # default location for tensors: cpu"
   ]
  },
  {
   "cell_type": "code",
   "execution_count": 25,
   "id": "90465768-0d69-4c80-9b7b-9a9f49ce3143",
   "metadata": {},
   "outputs": [],
   "source": [
    "device = \"mps\"\n",
    "t_gpu = t.to(device) # Move tensor to gpu"
   ]
  },
  {
   "cell_type": "code",
   "execution_count": 26,
   "id": "7c3a0cad-41db-43ed-abd2-08920b905f4e",
   "metadata": {},
   "outputs": [
    {
     "data": {
      "text/plain": [
       "device(type='mps', index=0)"
      ]
     },
     "execution_count": 26,
     "metadata": {},
     "output_type": "execute_result"
    }
   ],
   "source": [
    "t_gpu.device"
   ]
  },
  {
   "cell_type": "code",
   "execution_count": 29,
   "id": "5b158adf-977e-4b20-84c5-7463c8afaccc",
   "metadata": {},
   "outputs": [
    {
     "ename": "TypeError",
     "evalue": "can't convert mps:0 device type tensor to numpy. Use Tensor.cpu() to copy the tensor to host memory first.",
     "output_type": "error",
     "traceback": [
      "\u001b[0;31m---------------------------------------------------------------------------\u001b[0m",
      "\u001b[0;31mTypeError\u001b[0m                                 Traceback (most recent call last)",
      "Cell \u001b[0;32mIn[29], line 2\u001b[0m\n\u001b[1;32m      1\u001b[0m \u001b[38;5;66;03m# Might need to move back to cpu for numpy computations because numpy only runs on cpu\u001b[39;00m\n\u001b[0;32m----> 2\u001b[0m \u001b[43mt_gpu\u001b[49m\u001b[38;5;241;43m.\u001b[39;49m\u001b[43mnumpy\u001b[49m\u001b[43m(\u001b[49m\u001b[43m)\u001b[49m\n",
      "\u001b[0;31mTypeError\u001b[0m: can't convert mps:0 device type tensor to numpy. Use Tensor.cpu() to copy the tensor to host memory first."
     ]
    }
   ],
   "source": [
    "# Might need to move back to cpu for numpy computations because numpy only runs on cpu\n",
    "t_gpu.numpy()\n"
   ]
  },
  {
   "cell_type": "code",
   "execution_count": 28,
   "id": "ba42d728-9004-433d-b925-0d144557c6ab",
   "metadata": {},
   "outputs": [
    {
     "data": {
      "text/plain": [
       "device(type='cpu')"
      ]
     },
     "execution_count": 28,
     "metadata": {},
     "output_type": "execute_result"
    }
   ],
   "source": [
    "t_cpu = t_gpu.to(\"cpu\") # move back to cpu\n",
    "t_cpu.device"
   ]
  },
  {
   "cell_type": "code",
   "execution_count": 30,
   "id": "a234bbbe-e234-4a56-9ae5-3f7728c6e594",
   "metadata": {},
   "outputs": [
    {
     "data": {
      "text/plain": [
       "array([1, 2, 3])"
      ]
     },
     "execution_count": 30,
     "metadata": {},
     "output_type": "execute_result"
    }
   ],
   "source": [
    "t_cpu.numpy()"
   ]
  },
  {
   "cell_type": "code",
   "execution_count": null,
   "id": "c0a87128-dc5f-4d8a-83e1-e00b7e37f4e1",
   "metadata": {},
   "outputs": [],
   "source": []
  }
 ],
 "metadata": {
  "kernelspec": {
   "display_name": "Python 3 (ipykernel)",
   "language": "python",
   "name": "python3"
  },
  "language_info": {
   "codemirror_mode": {
    "name": "ipython",
    "version": 3
   },
   "file_extension": ".py",
   "mimetype": "text/x-python",
   "name": "python",
   "nbconvert_exporter": "python",
   "pygments_lexer": "ipython3",
   "version": "3.10.5"
  }
 },
 "nbformat": 4,
 "nbformat_minor": 5
}
